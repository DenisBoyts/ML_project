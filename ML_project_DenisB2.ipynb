{
 "cells": [
  {
   "cell_type": "markdown",
   "metadata": {},
   "source": [
    "<div class=\"alert alert-block alert-info\">\n",
    "<b>0. Введение</b>  \n",
    "\n",
    "</div>"
   ]
  },
  {
   "cell_type": "markdown",
   "metadata": {},
   "source": [
    "<div class=\"alert alert-block alert-info\">\n",
    "Для анализа проекта были использованы данные Churn. \n",
    "    \n",
    "Данные клиента за предыдущий до проверки факта оттока месяц:  \n",
    "    \n",
    "'gender' — пол;  \n",
    "    \n",
    "'Near_Location' — проживание или работа в районе, где находится фитнес-центр;  \n",
    "    \n",
    "'Partner' — сотрудник компании-партнёра клуба (сотрудничество с компаниями, чьи сотрудники могут получать скидки на абонемент — в таком случае фитнес-центр хранит информацию о работодателе клиента);  \n",
    "    \n",
    "Promo_friends — факт первоначальной записи в рамках акции «приведи друга» (использовал промо-код от знакомого при оплате первого абонемента);  \n",
    "    \n",
    "'Phone' — наличие контактного телефона;  \n",
    "    \n",
    "'Age' — возраст;  \n",
    "    \n",
    "'Lifetime' — время с момента первого обращения в фитнес-центр (в месяцах).  \n",
    " \n",
    " Информация на основе журнала посещений, покупок и информация о текущем статусе абонемента клиента:  \n",
    "    \n",
    "'Contract_period' — длительность текущего действующего абонемента (месяц, 3 месяца, 6 месяцев, год);  \n",
    "    \n",
    "'Month_to_end_contract' — срок до окончания текущего действующего абонемента (в месяцах);  \n",
    "    \n",
    "'Group_visits' — факт посещения групповых занятий;  \n",
    "    \n",
    "'Avg_class_frequency_total' — средняя частота посещений в неделю за все время с начала действия абонемента;  \n",
    "    \n",
    "'Avg_class_frequency_current_month' — средняя частота посещений в неделю за предыдущий месяц;  \n",
    "    \n",
    "'Avg_additional_charges_total' — суммарная выручка от других услуг фитнес-центра: кафе, спорт-товары, косметический и массажный салон.  \n",
    "\n",
    "После проведения анализа будет подготовлен план действий по удержанию клиентов \n",
    "    "
   ]
  },
  {
   "cell_type": "markdown",
   "metadata": {},
   "source": [
    "<div class=\"alert alert-block alert-info\">\n",
    "<b>1. Чтение и обзор датафреймов</b>\n",
    "</div>"
   ]
  },
  {
   "cell_type": "code",
   "execution_count": 1,
   "metadata": {},
   "outputs": [],
   "source": [
    "#добавление библиотек\n",
    "import pandas as pd\n",
    "import numpy as np\n",
    "import matplotlib.pyplot as plt\n",
    "import seaborn as sns\n",
    "from matplotlib import pyplot as plt\n",
    "from scipy import stats as st\n",
    "import warnings \n",
    "warnings.filterwarnings('ignore')\n",
    "from sklearn.model_selection import train_test_split\n",
    "from sklearn.linear_model import LogisticRegression\n",
    "from sklearn.ensemble import RandomForestClassifier\n",
    "from sklearn.metrics import accuracy_score, precision_score, recall_score, f1_score\n",
    "from sklearn.metrics import roc_auc_score\n",
    "from sklearn.preprocessing import StandardScaler\n",
    "from sklearn.cluster import KMeans\n",
    "from scipy.cluster.hierarchy import dendrogram, linkage\n",
    "\n",
    "pd.set_option('display.max_rows', None)\n",
    "pd.set_option('display.max_columns', None)"
   ]
  },
  {
   "cell_type": "markdown",
   "metadata": {},
   "source": [
    "<div class=\"alert alert-block alert-info\">\n",
    "<b>2. Исследовательский анализ данных (EDA)</b>\n",
    "</div>"
   ]
  },
  {
   "cell_type": "code",
   "execution_count": 2,
   "metadata": {},
   "outputs": [
    {
     "name": "stdout",
     "output_type": "stream",
     "text": [
      "\u001b[1m Случайные 5 строк таблицы: \u001b[0m\n"
     ]
    },
    {
     "data": {
      "text/html": [
       "<div>\n",
       "<style scoped>\n",
       "    .dataframe tbody tr th:only-of-type {\n",
       "        vertical-align: middle;\n",
       "    }\n",
       "\n",
       "    .dataframe tbody tr th {\n",
       "        vertical-align: top;\n",
       "    }\n",
       "\n",
       "    .dataframe thead th {\n",
       "        text-align: right;\n",
       "    }\n",
       "</style>\n",
       "<table border=\"1\" class=\"dataframe\">\n",
       "  <thead>\n",
       "    <tr style=\"text-align: right;\">\n",
       "      <th></th>\n",
       "      <th>gender</th>\n",
       "      <th>Near_Location</th>\n",
       "      <th>Partner</th>\n",
       "      <th>Promo_friends</th>\n",
       "      <th>Phone</th>\n",
       "      <th>Contract_period</th>\n",
       "      <th>Group_visits</th>\n",
       "      <th>Age</th>\n",
       "      <th>Avg_additional_charges_total</th>\n",
       "      <th>Month_to_end_contract</th>\n",
       "      <th>Lifetime</th>\n",
       "      <th>Avg_class_frequency_total</th>\n",
       "      <th>Avg_class_frequency_current_month</th>\n",
       "      <th>Churn</th>\n",
       "    </tr>\n",
       "  </thead>\n",
       "  <tbody>\n",
       "    <tr>\n",
       "      <th>3764</th>\n",
       "      <td>0</td>\n",
       "      <td>1</td>\n",
       "      <td>1</td>\n",
       "      <td>1</td>\n",
       "      <td>1</td>\n",
       "      <td>1</td>\n",
       "      <td>0</td>\n",
       "      <td>31</td>\n",
       "      <td>40.987163</td>\n",
       "      <td>1.0</td>\n",
       "      <td>9</td>\n",
       "      <td>1.791114</td>\n",
       "      <td>1.841029</td>\n",
       "      <td>0</td>\n",
       "    </tr>\n",
       "    <tr>\n",
       "      <th>2835</th>\n",
       "      <td>1</td>\n",
       "      <td>1</td>\n",
       "      <td>1</td>\n",
       "      <td>1</td>\n",
       "      <td>1</td>\n",
       "      <td>12</td>\n",
       "      <td>1</td>\n",
       "      <td>22</td>\n",
       "      <td>155.099738</td>\n",
       "      <td>10.0</td>\n",
       "      <td>4</td>\n",
       "      <td>4.141085</td>\n",
       "      <td>4.165957</td>\n",
       "      <td>0</td>\n",
       "    </tr>\n",
       "    <tr>\n",
       "      <th>3341</th>\n",
       "      <td>0</td>\n",
       "      <td>1</td>\n",
       "      <td>1</td>\n",
       "      <td>1</td>\n",
       "      <td>0</td>\n",
       "      <td>12</td>\n",
       "      <td>0</td>\n",
       "      <td>32</td>\n",
       "      <td>243.353497</td>\n",
       "      <td>12.0</td>\n",
       "      <td>10</td>\n",
       "      <td>2.882118</td>\n",
       "      <td>2.924054</td>\n",
       "      <td>0</td>\n",
       "    </tr>\n",
       "    <tr>\n",
       "      <th>2375</th>\n",
       "      <td>1</td>\n",
       "      <td>1</td>\n",
       "      <td>1</td>\n",
       "      <td>1</td>\n",
       "      <td>1</td>\n",
       "      <td>1</td>\n",
       "      <td>1</td>\n",
       "      <td>34</td>\n",
       "      <td>396.399451</td>\n",
       "      <td>1.0</td>\n",
       "      <td>1</td>\n",
       "      <td>2.237812</td>\n",
       "      <td>2.157835</td>\n",
       "      <td>0</td>\n",
       "    </tr>\n",
       "    <tr>\n",
       "      <th>1460</th>\n",
       "      <td>0</td>\n",
       "      <td>1</td>\n",
       "      <td>1</td>\n",
       "      <td>1</td>\n",
       "      <td>1</td>\n",
       "      <td>1</td>\n",
       "      <td>0</td>\n",
       "      <td>28</td>\n",
       "      <td>17.620551</td>\n",
       "      <td>1.0</td>\n",
       "      <td>1</td>\n",
       "      <td>1.473901</td>\n",
       "      <td>0.745164</td>\n",
       "      <td>1</td>\n",
       "    </tr>\n",
       "  </tbody>\n",
       "</table>\n",
       "</div>"
      ],
      "text/plain": [
       "      gender  Near_Location  Partner  Promo_friends  Phone  Contract_period  \\\n",
       "3764       0              1        1              1      1                1   \n",
       "2835       1              1        1              1      1               12   \n",
       "3341       0              1        1              1      0               12   \n",
       "2375       1              1        1              1      1                1   \n",
       "1460       0              1        1              1      1                1   \n",
       "\n",
       "      Group_visits  Age  Avg_additional_charges_total  Month_to_end_contract  \\\n",
       "3764             0   31                     40.987163                    1.0   \n",
       "2835             1   22                    155.099738                   10.0   \n",
       "3341             0   32                    243.353497                   12.0   \n",
       "2375             1   34                    396.399451                    1.0   \n",
       "1460             0   28                     17.620551                    1.0   \n",
       "\n",
       "      Lifetime  Avg_class_frequency_total  Avg_class_frequency_current_month  \\\n",
       "3764         9                   1.791114                           1.841029   \n",
       "2835         4                   4.141085                           4.165957   \n",
       "3341        10                   2.882118                           2.924054   \n",
       "2375         1                   2.237812                           2.157835   \n",
       "1460         1                   1.473901                           0.745164   \n",
       "\n",
       "      Churn  \n",
       "3764      0  \n",
       "2835      0  \n",
       "3341      0  \n",
       "2375      0  \n",
       "1460      1  "
      ]
     },
     "metadata": {},
     "output_type": "display_data"
    },
    {
     "name": "stdout",
     "output_type": "stream",
     "text": [
      "\u001b[1m Информация о типах данных:\n",
      " \u001b[0m\n",
      "<class 'pandas.core.frame.DataFrame'>\n",
      "RangeIndex: 4000 entries, 0 to 3999\n",
      "Data columns (total 14 columns):\n",
      " #   Column                             Non-Null Count  Dtype  \n",
      "---  ------                             --------------  -----  \n",
      " 0   gender                             4000 non-null   int64  \n",
      " 1   Near_Location                      4000 non-null   int64  \n",
      " 2   Partner                            4000 non-null   int64  \n",
      " 3   Promo_friends                      4000 non-null   int64  \n",
      " 4   Phone                              4000 non-null   int64  \n",
      " 5   Contract_period                    4000 non-null   int64  \n",
      " 6   Group_visits                       4000 non-null   int64  \n",
      " 7   Age                                4000 non-null   int64  \n",
      " 8   Avg_additional_charges_total       4000 non-null   float64\n",
      " 9   Month_to_end_contract              4000 non-null   float64\n",
      " 10  Lifetime                           4000 non-null   int64  \n",
      " 11  Avg_class_frequency_total          4000 non-null   float64\n",
      " 12  Avg_class_frequency_current_month  4000 non-null   float64\n",
      " 13  Churn                              4000 non-null   int64  \n",
      "dtypes: float64(4), int64(10)\n",
      "memory usage: 437.6 KB\n",
      "\u001b[1m \n",
      "Размер датасета:\n",
      " \u001b[0m\n"
     ]
    },
    {
     "data": {
      "text/plain": [
       "(4000, 14)"
      ]
     },
     "metadata": {},
     "output_type": "display_data"
    },
    {
     "name": "stdout",
     "output_type": "stream",
     "text": [
      "\u001b[1m Доля пропусков в столбцах:\n",
      " \u001b[0m\n"
     ]
    },
    {
     "data": {
      "text/plain": [
       "gender                               0\n",
       "Near_Location                        0\n",
       "Partner                              0\n",
       "Promo_friends                        0\n",
       "Phone                                0\n",
       "Contract_period                      0\n",
       "Group_visits                         0\n",
       "Age                                  0\n",
       "Avg_additional_charges_total         0\n",
       "Month_to_end_contract                0\n",
       "Lifetime                             0\n",
       "Avg_class_frequency_total            0\n",
       "Avg_class_frequency_current_month    0\n",
       "Churn                                0\n",
       "dtype: int64"
      ]
     },
     "metadata": {},
     "output_type": "display_data"
    },
    {
     "name": "stdout",
     "output_type": "stream",
     "text": [
      "\u001b[1m \n",
      "Количество дубликатов: \u001b[0m\n"
     ]
    },
    {
     "data": {
      "text/plain": [
       "0"
      ]
     },
     "metadata": {},
     "output_type": "display_data"
    },
    {
     "name": "stdout",
     "output_type": "stream",
     "text": [
      "\u001b[1m \n",
      "Проверка о состоянии данных. Метод describe(): \u001b[0m\n"
     ]
    },
    {
     "data": {
      "text/html": [
       "<div>\n",
       "<style scoped>\n",
       "    .dataframe tbody tr th:only-of-type {\n",
       "        vertical-align: middle;\n",
       "    }\n",
       "\n",
       "    .dataframe tbody tr th {\n",
       "        vertical-align: top;\n",
       "    }\n",
       "\n",
       "    .dataframe thead th {\n",
       "        text-align: right;\n",
       "    }\n",
       "</style>\n",
       "<table border=\"1\" class=\"dataframe\">\n",
       "  <thead>\n",
       "    <tr style=\"text-align: right;\">\n",
       "      <th></th>\n",
       "      <th>gender</th>\n",
       "      <th>Near_Location</th>\n",
       "      <th>Partner</th>\n",
       "      <th>Promo_friends</th>\n",
       "      <th>Phone</th>\n",
       "      <th>Contract_period</th>\n",
       "      <th>Group_visits</th>\n",
       "      <th>Age</th>\n",
       "      <th>Avg_additional_charges_total</th>\n",
       "      <th>Month_to_end_contract</th>\n",
       "      <th>Lifetime</th>\n",
       "      <th>Avg_class_frequency_total</th>\n",
       "      <th>Avg_class_frequency_current_month</th>\n",
       "      <th>Churn</th>\n",
       "    </tr>\n",
       "  </thead>\n",
       "  <tbody>\n",
       "    <tr>\n",
       "      <th>count</th>\n",
       "      <td>4000.000000</td>\n",
       "      <td>4000.000000</td>\n",
       "      <td>4000.000000</td>\n",
       "      <td>4000.000000</td>\n",
       "      <td>4000.000000</td>\n",
       "      <td>4000.000000</td>\n",
       "      <td>4000.000000</td>\n",
       "      <td>4000.000000</td>\n",
       "      <td>4000.000000</td>\n",
       "      <td>4000.000000</td>\n",
       "      <td>4000.000000</td>\n",
       "      <td>4000.000000</td>\n",
       "      <td>4000.000000</td>\n",
       "      <td>4000.000000</td>\n",
       "    </tr>\n",
       "    <tr>\n",
       "      <th>mean</th>\n",
       "      <td>0.510250</td>\n",
       "      <td>0.845250</td>\n",
       "      <td>0.486750</td>\n",
       "      <td>0.308500</td>\n",
       "      <td>0.903500</td>\n",
       "      <td>4.681250</td>\n",
       "      <td>0.412250</td>\n",
       "      <td>29.184250</td>\n",
       "      <td>146.943728</td>\n",
       "      <td>4.322750</td>\n",
       "      <td>3.724750</td>\n",
       "      <td>1.879020</td>\n",
       "      <td>1.767052</td>\n",
       "      <td>0.265250</td>\n",
       "    </tr>\n",
       "    <tr>\n",
       "      <th>std</th>\n",
       "      <td>0.499957</td>\n",
       "      <td>0.361711</td>\n",
       "      <td>0.499887</td>\n",
       "      <td>0.461932</td>\n",
       "      <td>0.295313</td>\n",
       "      <td>4.549706</td>\n",
       "      <td>0.492301</td>\n",
       "      <td>3.258367</td>\n",
       "      <td>96.355602</td>\n",
       "      <td>4.191297</td>\n",
       "      <td>3.749267</td>\n",
       "      <td>0.972245</td>\n",
       "      <td>1.052906</td>\n",
       "      <td>0.441521</td>\n",
       "    </tr>\n",
       "    <tr>\n",
       "      <th>min</th>\n",
       "      <td>0.000000</td>\n",
       "      <td>0.000000</td>\n",
       "      <td>0.000000</td>\n",
       "      <td>0.000000</td>\n",
       "      <td>0.000000</td>\n",
       "      <td>1.000000</td>\n",
       "      <td>0.000000</td>\n",
       "      <td>18.000000</td>\n",
       "      <td>0.148205</td>\n",
       "      <td>1.000000</td>\n",
       "      <td>0.000000</td>\n",
       "      <td>0.000000</td>\n",
       "      <td>0.000000</td>\n",
       "      <td>0.000000</td>\n",
       "    </tr>\n",
       "    <tr>\n",
       "      <th>25%</th>\n",
       "      <td>0.000000</td>\n",
       "      <td>1.000000</td>\n",
       "      <td>0.000000</td>\n",
       "      <td>0.000000</td>\n",
       "      <td>1.000000</td>\n",
       "      <td>1.000000</td>\n",
       "      <td>0.000000</td>\n",
       "      <td>27.000000</td>\n",
       "      <td>68.868830</td>\n",
       "      <td>1.000000</td>\n",
       "      <td>1.000000</td>\n",
       "      <td>1.180875</td>\n",
       "      <td>0.963003</td>\n",
       "      <td>0.000000</td>\n",
       "    </tr>\n",
       "    <tr>\n",
       "      <th>50%</th>\n",
       "      <td>1.000000</td>\n",
       "      <td>1.000000</td>\n",
       "      <td>0.000000</td>\n",
       "      <td>0.000000</td>\n",
       "      <td>1.000000</td>\n",
       "      <td>1.000000</td>\n",
       "      <td>0.000000</td>\n",
       "      <td>29.000000</td>\n",
       "      <td>136.220159</td>\n",
       "      <td>1.000000</td>\n",
       "      <td>3.000000</td>\n",
       "      <td>1.832768</td>\n",
       "      <td>1.719574</td>\n",
       "      <td>0.000000</td>\n",
       "    </tr>\n",
       "    <tr>\n",
       "      <th>75%</th>\n",
       "      <td>1.000000</td>\n",
       "      <td>1.000000</td>\n",
       "      <td>1.000000</td>\n",
       "      <td>1.000000</td>\n",
       "      <td>1.000000</td>\n",
       "      <td>6.000000</td>\n",
       "      <td>1.000000</td>\n",
       "      <td>31.000000</td>\n",
       "      <td>210.949625</td>\n",
       "      <td>6.000000</td>\n",
       "      <td>5.000000</td>\n",
       "      <td>2.536078</td>\n",
       "      <td>2.510336</td>\n",
       "      <td>1.000000</td>\n",
       "    </tr>\n",
       "    <tr>\n",
       "      <th>max</th>\n",
       "      <td>1.000000</td>\n",
       "      <td>1.000000</td>\n",
       "      <td>1.000000</td>\n",
       "      <td>1.000000</td>\n",
       "      <td>1.000000</td>\n",
       "      <td>12.000000</td>\n",
       "      <td>1.000000</td>\n",
       "      <td>41.000000</td>\n",
       "      <td>552.590740</td>\n",
       "      <td>12.000000</td>\n",
       "      <td>31.000000</td>\n",
       "      <td>6.023668</td>\n",
       "      <td>6.146783</td>\n",
       "      <td>1.000000</td>\n",
       "    </tr>\n",
       "  </tbody>\n",
       "</table>\n",
       "</div>"
      ],
      "text/plain": [
       "            gender  Near_Location      Partner  Promo_friends        Phone  \\\n",
       "count  4000.000000    4000.000000  4000.000000    4000.000000  4000.000000   \n",
       "mean      0.510250       0.845250     0.486750       0.308500     0.903500   \n",
       "std       0.499957       0.361711     0.499887       0.461932     0.295313   \n",
       "min       0.000000       0.000000     0.000000       0.000000     0.000000   \n",
       "25%       0.000000       1.000000     0.000000       0.000000     1.000000   \n",
       "50%       1.000000       1.000000     0.000000       0.000000     1.000000   \n",
       "75%       1.000000       1.000000     1.000000       1.000000     1.000000   \n",
       "max       1.000000       1.000000     1.000000       1.000000     1.000000   \n",
       "\n",
       "       Contract_period  Group_visits          Age  \\\n",
       "count      4000.000000   4000.000000  4000.000000   \n",
       "mean          4.681250      0.412250    29.184250   \n",
       "std           4.549706      0.492301     3.258367   \n",
       "min           1.000000      0.000000    18.000000   \n",
       "25%           1.000000      0.000000    27.000000   \n",
       "50%           1.000000      0.000000    29.000000   \n",
       "75%           6.000000      1.000000    31.000000   \n",
       "max          12.000000      1.000000    41.000000   \n",
       "\n",
       "       Avg_additional_charges_total  Month_to_end_contract     Lifetime  \\\n",
       "count                   4000.000000            4000.000000  4000.000000   \n",
       "mean                     146.943728               4.322750     3.724750   \n",
       "std                       96.355602               4.191297     3.749267   \n",
       "min                        0.148205               1.000000     0.000000   \n",
       "25%                       68.868830               1.000000     1.000000   \n",
       "50%                      136.220159               1.000000     3.000000   \n",
       "75%                      210.949625               6.000000     5.000000   \n",
       "max                      552.590740              12.000000    31.000000   \n",
       "\n",
       "       Avg_class_frequency_total  Avg_class_frequency_current_month  \\\n",
       "count                4000.000000                        4000.000000   \n",
       "mean                    1.879020                           1.767052   \n",
       "std                     0.972245                           1.052906   \n",
       "min                     0.000000                           0.000000   \n",
       "25%                     1.180875                           0.963003   \n",
       "50%                     1.832768                           1.719574   \n",
       "75%                     2.536078                           2.510336   \n",
       "max                     6.023668                           6.146783   \n",
       "\n",
       "             Churn  \n",
       "count  4000.000000  \n",
       "mean      0.265250  \n",
       "std       0.441521  \n",
       "min       0.000000  \n",
       "25%       0.000000  \n",
       "50%       0.000000  \n",
       "75%       1.000000  \n",
       "max       1.000000  "
      ]
     },
     "metadata": {},
     "output_type": "display_data"
    }
   ],
   "source": [
    "#чтение датафрейма\n",
    "churn = pd.read_csv('gym_churn.csv')\n",
    "\n",
    "def check_dataset(dataset):\n",
    "    try:\n",
    "            print('\\033[1m','Случайные 5 строк таблицы:','\\033[0m')\n",
    "            display(dataset.sample(5))\n",
    "            print('\\033[1m','Информация о типах данных:\\n', '\\033[0m')\n",
    "            dataset.info()\n",
    "            print('\\033[1m','\\nРазмер датасета:\\n', '\\033[0m')\n",
    "            display(dataset.shape)\n",
    "            print('\\033[1m', 'Доля пропусков в столбцах:\\n', '\\033[0m')\n",
    "            display(dataset.isna().sum())\n",
    "            print('\\033[1m', '\\nКоличество дубликатов:', '\\033[0m'), \n",
    "            display(dataset.duplicated().sum()) \n",
    "            print('\\033[1m', '\\nПроверка о состоянии данных. Метод describe():', '\\033[0m'), \n",
    "            display(dataset.describe())\n",
    "    except:\n",
    "            print('Ошибка')\n",
    "\n",
    "check_dataset(churn)"
   ]
  },
  {
   "cell_type": "markdown",
   "metadata": {},
   "source": [
    "<div class=\"alert alert-block alert-info\">\n",
    "Датасет представляет собой размер 400x14. \n",
    "    \n",
    "Пропусков и дубликатов нет.  \n",
    "Выбросов в признаках не наблюдается.    \n",
    "</div>"
   ]
  },
  {
   "cell_type": "code",
   "execution_count": 3,
   "metadata": {},
   "outputs": [
    {
     "data": {
      "text/html": [
       "<div>\n",
       "<style scoped>\n",
       "    .dataframe tbody tr th:only-of-type {\n",
       "        vertical-align: middle;\n",
       "    }\n",
       "\n",
       "    .dataframe tbody tr th {\n",
       "        vertical-align: top;\n",
       "    }\n",
       "\n",
       "    .dataframe thead th {\n",
       "        text-align: right;\n",
       "    }\n",
       "</style>\n",
       "<table border=\"1\" class=\"dataframe\">\n",
       "  <thead>\n",
       "    <tr style=\"text-align: right;\">\n",
       "      <th></th>\n",
       "      <th>gender</th>\n",
       "      <th>Near_Location</th>\n",
       "      <th>Partner</th>\n",
       "      <th>Promo_friends</th>\n",
       "      <th>Phone</th>\n",
       "      <th>Contract_period</th>\n",
       "      <th>Group_visits</th>\n",
       "      <th>Age</th>\n",
       "      <th>Avg_additional_charges_total</th>\n",
       "      <th>Month_to_end_contract</th>\n",
       "      <th>Lifetime</th>\n",
       "      <th>Avg_class_frequency_total</th>\n",
       "      <th>Avg_class_frequency_current_month</th>\n",
       "    </tr>\n",
       "    <tr>\n",
       "      <th>Churn</th>\n",
       "      <th></th>\n",
       "      <th></th>\n",
       "      <th></th>\n",
       "      <th></th>\n",
       "      <th></th>\n",
       "      <th></th>\n",
       "      <th></th>\n",
       "      <th></th>\n",
       "      <th></th>\n",
       "      <th></th>\n",
       "      <th></th>\n",
       "      <th></th>\n",
       "      <th></th>\n",
       "    </tr>\n",
       "  </thead>\n",
       "  <tbody>\n",
       "    <tr>\n",
       "      <th>0</th>\n",
       "      <td>0.510037</td>\n",
       "      <td>0.873086</td>\n",
       "      <td>0.534195</td>\n",
       "      <td>0.353522</td>\n",
       "      <td>0.903709</td>\n",
       "      <td>5.747193</td>\n",
       "      <td>0.464103</td>\n",
       "      <td>29.976523</td>\n",
       "      <td>158.445715</td>\n",
       "      <td>5.283089</td>\n",
       "      <td>4.711807</td>\n",
       "      <td>2.024876</td>\n",
       "      <td>2.027882</td>\n",
       "    </tr>\n",
       "    <tr>\n",
       "      <th>1</th>\n",
       "      <td>0.510839</td>\n",
       "      <td>0.768143</td>\n",
       "      <td>0.355325</td>\n",
       "      <td>0.183789</td>\n",
       "      <td>0.902922</td>\n",
       "      <td>1.728558</td>\n",
       "      <td>0.268615</td>\n",
       "      <td>26.989632</td>\n",
       "      <td>115.082899</td>\n",
       "      <td>1.662582</td>\n",
       "      <td>0.990575</td>\n",
       "      <td>1.474995</td>\n",
       "      <td>1.044546</td>\n",
       "    </tr>\n",
       "  </tbody>\n",
       "</table>\n",
       "</div>"
      ],
      "text/plain": [
       "         gender  Near_Location   Partner  Promo_friends     Phone  \\\n",
       "Churn                                                               \n",
       "0      0.510037       0.873086  0.534195       0.353522  0.903709   \n",
       "1      0.510839       0.768143  0.355325       0.183789  0.902922   \n",
       "\n",
       "       Contract_period  Group_visits        Age  Avg_additional_charges_total  \\\n",
       "Churn                                                                           \n",
       "0             5.747193      0.464103  29.976523                    158.445715   \n",
       "1             1.728558      0.268615  26.989632                    115.082899   \n",
       "\n",
       "       Month_to_end_contract  Lifetime  Avg_class_frequency_total  \\\n",
       "Churn                                                               \n",
       "0                   5.283089  4.711807                   2.024876   \n",
       "1                   1.662582  0.990575                   1.474995   \n",
       "\n",
       "       Avg_class_frequency_current_month  \n",
       "Churn                                     \n",
       "0                               2.027882  \n",
       "1                               1.044546  "
      ]
     },
     "metadata": {},
     "output_type": "display_data"
    }
   ],
   "source": [
    "#Создадим И проанализируем две группы: 0 - те, кто ушел в отток, 0 - те, кто остался\n",
    "\n",
    "average_by_groups = churn.groupby(['Churn']).mean()\n",
    "display(average_by_groups)"
   ]
  },
  {
   "cell_type": "markdown",
   "metadata": {},
   "source": [
    "<div class=\"alert alert-block alert-info\">\n",
    "Чаще всего отток происходит у клиентов:  \n",
    "    \n",
    "- кто дальше находится от фитнес-центра  \n",
    "    \n",
    "- кто не явлется партнером клуба  \n",
    "    \n",
    "- кто не приходил по акции \"приведи друга\"  \n",
    "    \n",
    "- у кого не продолжительный период контракта менше 3 мес  \n",
    "    \n",
    "- кто не посещал групповые занятия \n",
    "- у кого остается мало месяцев до конца контракта  \n",
    "- вновь прибывшие клиенты  \n",
    "- кто реже посещает занятия до 2 раз в неделю\n",
    "    \n",
    "Не влияет на отток:  \n",
    "    \n",
    "- пол  \n",
    "- наличие контактного телефона  \n",
    "- возраст  \n",
    "- среднии траты на доп. услуги  \n",
    "    \n",
    "</div>"
   ]
  },
  {
   "cell_type": "code",
   "execution_count": 4,
   "metadata": {
    "scrolled": false
   },
   "outputs": [
    {
     "data": {
      "image/png": "[encoded data removed]",
      "text/plain": [
       "<Figure size 1008x576 with 1 Axes>"
      ]
     },
     "metadata": {
      "needs_background": "light"
     },
     "output_type": "display_data"
    },
    {
     "data": {
      "image/png": "[encoded data removed]",
      "text/plain": [
       "<Figure size 1008x576 with 1 Axes>"
      ]
     },
     "metadata": {
      "needs_background": "light"
     },
     "output_type": "display_data"
    },
    {
     "data": {
      "image/png": "[encoded data removed]",
      "text/plain": [
       "<Figure size 1008x576 with 1 Axes>"
      ]
     },
     "metadata": {
      "needs_background": "light"
     },
     "output_type": "display_data"
    },
    {
     "data": {
      "image/png": "[encoded data removed]",
      "text/plain": [
       "<Figure size 1008x576 with 1 Axes>"
      ]
     },
     "metadata": {
      "needs_background": "light"
     },
     "output_type": "display_data"
    },
    {
     "data": {
      "image/png": "[encoded data removed]",
      "text/plain": [
       "<Figure size 1008x576 with 1 Axes>"
      ]
     },
     "metadata": {
      "needs_background": "light"
     },
     "output_type": "display_data"
    },
    {
     "data": {
      "image/png": "[encoded data removed]",
      "text/plain": [
       "<Figure size 1008x576 with 1 Axes>"
      ]
     },
     "metadata": {
      "needs_background": "light"
     },
     "output_type": "display_data"
    },
    {
     "data": {
      "image/png": "[encoded data removed]",
      "text/plain": [
       "<Figure size 1008x576 with 1 Axes>"
      ]
     },
     "metadata": {
      "needs_background": "light"
     },
     "output_type": "display_data"
    }
   ],
   "source": [
    "#Построим столбчатые гистограммы и распределения признаков для тех, кто ушёл (отток) и тех, кто остался (не попали в отток)\n",
    "\n",
    "#list_feature = list(churn.columns)\n",
    "#list_feature.remove('Churn')\n",
    "\n",
    "list_feature_numeric = np.array(['Contract_period', 'Age', 'Avg_additional_charges_total', 'Month_to_end_contract', 'Lifetime', 'Avg_class_frequency_total', 'Avg_class_frequency_current_month'])\n",
    "\n",
    "\n",
    "for col in list_feature_numeric:\n",
    "    plt.figure(figsize=(14,8))\n",
    "    sns.distplot(churn.query('Churn == 1')[col], bins=50, color='blue', label = 'Churn-1') \n",
    "    sns.distplot(churn.query('Churn == 0')[col], bins=50, color='red', label = 'Churn-0') \n",
    "    plt.xlabel(col)\n",
    "    plt.legend()\n",
    "    plt.ylabel(\"Density\")  \n",
    "    plt.title(col)\n",
    "    plt.show()\n",
    "\n"
   ]
  },
  {
   "cell_type": "code",
   "execution_count": 5,
   "metadata": {
    "scrolled": false
   },
   "outputs": [
    {
     "data": {
      "image/png": "[encoded data removed]",
      "text/plain": [
       "<Figure size 720x360 with 1 Axes>"
      ]
     },
     "metadata": {
      "needs_background": "light"
     },
     "output_type": "display_data"
    },
    {
     "data": {
      "image/png": "[encoded data removed]",
      "text/plain": [
       "<Figure size 720x360 with 1 Axes>"
      ]
     },
     "metadata": {
      "needs_background": "light"
     },
     "output_type": "display_data"
    },
    {
     "data": {
      "image/png": "[encoded data removed]",
      "text/plain": [
       "<Figure size 720x360 with 1 Axes>"
      ]
     },
     "metadata": {
      "needs_background": "light"
     },
     "output_type": "display_data"
    },
    {
     "data": {
      "image/png": "[encoded data removed]",
      "text/plain": [
       "<Figure size 720x360 with 1 Axes>"
      ]
     },
     "metadata": {
      "needs_background": "light"
     },
     "output_type": "display_data"
    },
    {
     "data": {
      "image/png": "[encoded data removed]",
      "text/plain": [
       "<Figure size 720x360 with 1 Axes>"
      ]
     },
     "metadata": {
      "needs_background": "light"
     },
     "output_type": "display_data"
    },
    {
     "data": {
      "image/png": "[encoded data removed]",
      "text/plain": [
       "<Figure size 720x360 with 1 Axes>"
      ]
     },
     "metadata": {
      "needs_background": "light"
     },
     "output_type": "display_data"
    }
   ],
   "source": [
    "list_feature_bool = np.array(['gender', 'Near_Location', 'Partner', 'Promo_friends', 'Phone', 'Group_visits'])\n",
    "\n",
    "for col in list_feature_bool:\n",
    "    plt.figure(figsize=(10,5))\n",
    "    sns.countplot(churn[col], hue=churn['Churn']) \n",
    "    plt.xlabel(col)\n",
    "    plt.ylabel(\"count\")  \n",
    "    plt.title(col)\n",
    "    plt.show()"
   ]
  },
  {
   "cell_type": "markdown",
   "metadata": {},
   "source": [
    "<div class=\"alert alert-block alert-info\">\n",
    "Partner. К оттоку склоны клиенты пришедшие не по партнерской программе  \n",
    "    \n",
    "Promo_friends. К оттоку склоны клиенты не из категории «Приведи друга»  \n",
    "    \n",
    "Contract_period. К оттоку склоны клиенты с коротким периодом контракта  \n",
    "    \n",
    "Group_visits. К оттоку склоны клиенты, которые не занимаются в группах  \n",
    "    \n",
    "Age. К оттоку склоны клиенты в возраст 25-28 лет  \n",
    "    \n",
    "Avg_additional_charges_total. К оттоку склоны клиенты, которые реже совершают доп. услуги  \n",
    "    \n",
    "Month_to_end_contract. К оттоку склоны клиенты, у которых скоро закончится контракт  \n",
    "    \n",
    "Lifetime. К оттоку склоны клиенты, которые занимаются первые 2 месяца  \n",
    "    \n",
    "Avg_class_frequency_total. К оттоку склоны клиенты, которые посещают занятия 1-2 раза в неделю  \n",
    "    \n",
    "Avg_class_frequency_current_month. К оттоку склоны клиенты, которые посещают занятия до 1 раза в месяц\n",
    "\n",
    "    \n",
    "</div>"
   ]
  },
  {
   "cell_type": "code",
   "execution_count": 6,
   "metadata": {},
   "outputs": [
    {
     "data": {
      "image/png": "[encoded data removed]",
      "text/plain": [
       "<Figure size 1008x576 with 2 Axes>"
      ]
     },
     "metadata": {
      "needs_background": "light"
     },
     "output_type": "display_data"
    }
   ],
   "source": [
    "#Постройте матрицу корреляций и отобразите её\n",
    "\n",
    "cm = churn.corr()   \n",
    "plt.figure(figsize=(14,8))\n",
    "plt.title('Взаимная корреляция признаков')\n",
    "sns.heatmap(cm, annot = True, square=True, fmt='.2f', cmap ='coolwarm')\n",
    "plt.show()"
   ]
  },
  {
   "cell_type": "markdown",
   "metadata": {},
   "source": [
    "<div class=\"alert alert-block alert-info\">\n",
    "Корреляция ближе к 1 есть у следующих признаков:\n",
    "Contract_period - Month_to_end_contract\n",
    "Avg_class_frequency_current_month - Avg_class_frequency_current_total.\n",
    "Удивительно здесь ничего нет, так как эти параметры пересекаются в своих показателях и носят одинаковую характеристику.  \n",
    "Между целевой переменной Churn и Avg_class_frequency_current_total, Lifetime, Age существует обратная корреляция.\n",
    "    \n",
    "</div>"
   ]
  },
  {
   "cell_type": "markdown",
   "metadata": {},
   "source": [
    "<div class=\"alert alert-block alert-info\">\n",
    "<b>3. Построение модели прогнозирования оттока клиентов</b>\n",
    "</div>"
   ]
  },
  {
   "cell_type": "code",
   "execution_count": 7,
   "metadata": {},
   "outputs": [],
   "source": [
    "#Разобъем данные на обучающую и валидационную выборку функцией train_test_split()\n",
    "\n",
    "#разделим наши данные на признаки (матрица X) и целевую переменную (y)\n",
    "X = churn.drop('Churn', axis=1)\n",
    "y = churn['Churn']\n",
    "\n",
    "\n",
    "#разделяем модель на обучающую и валидационную выборки\n",
    "X_train, X_test, y_train, y_test = train_test_split(X,y,test_size=0.2, random_state=0)\n",
    "\n",
    "#Логистическая регрессия\n",
    "lr_model = LogisticRegression(random_state=0) \n",
    "lr_model.fit(X_train,y_train)\n",
    "lr_predict = lr_model.predict(X_test)\n",
    "lr_prob = lr_model.predict_proba(X_test)[0:,1] \n",
    "\n",
    "#Случайный лес\n",
    "rf_model =  RandomForestClassifier(n_estimators = 100, random_state=0)\n",
    "rf_model.fit(X_train, y_train)\n",
    "rf_predict = rf_model.predict(X_test)\n",
    "rf_prob = rf_model.predict_proba(X_test)[0:,1]"
   ]
  },
  {
   "cell_type": "code",
   "execution_count": 8,
   "metadata": {},
   "outputs": [
    {
     "name": "stdout",
     "output_type": "stream",
     "text": [
      "Метрики для модели логистической регрессии:\n",
      "\tAccuracy: 0.91\n",
      "\tPrecision: 0.84\n",
      "\tRecall: 0.80\n",
      "\tF1: 0.82\n",
      "\tROC_AUC: 0.96\n",
      "Метрики для модели случайного леса:\n",
      "\tAccuracy: 0.92\n",
      "\tPrecision: 0.84\n",
      "\tRecall: 0.82\n",
      "\tF1: 0.83\n",
      "\tROC_AUC: 0.97\n"
     ]
    }
   ],
   "source": [
    "#Оцените метрики accuracy, precision и recall для обеих моделей на валидационной выборке. \n",
    "#Сравните по ним модели. Какая модель показала себя лучше на основании метрик?\n",
    "\n",
    "def print_all_metrics(y_true, y_pred, y_proba, title='Метрики классификации'):\n",
    "    print(title)\n",
    "    print('\\tAccuracy: {:.2f}'.format(accuracy_score(y_true, y_pred)))\n",
    "    print('\\tPrecision: {:.2f}'.format(precision_score(y_true, y_pred)))\n",
    "    print('\\tRecall: {:.2f}'.format(recall_score(y_true, y_pred)))\n",
    "    print('\\tF1: {:.2f}'.format(f1_score(y_true, y_pred)))\n",
    "    print('\\tROC_AUC: {:.2f}'.format(roc_auc_score(y_true, y_proba)))\n",
    "\n",
    "print_all_metrics(\n",
    "    y_test,\n",
    "    lr_predict,\n",
    "    lr_prob,\n",
    "    title='Метрики для модели логистической регрессии:',\n",
    ")\n",
    " \n",
    "print_all_metrics(\n",
    "    y_test,\n",
    "    rf_predict,\n",
    "    rf_prob,\n",
    "    title='Метрики для модели случайного леса:',\n",
    ")"
   ]
  },
  {
   "cell_type": "markdown",
   "metadata": {},
   "source": [
    "<div class=\"alert alert-block alert-info\">\n",
    "Все метрики (1)модели логистической регрессии показали себя лучше, чем (2)модели случайного леса.  \n",
    "    \n",
    "Модель логистической регрессии более приближена к реальной модели  \n",
    "    \n",
    "Доля правильных ответов (Accuracy) в 1ой модели выше на 1%.  \n",
    "    \n",
    "Точность (Precision) в 1ой модели выше на 1%, т.е доля правильных ответов по оттоку выше.  \n",
    "    \n",
    "Полнота (Reccal) в 1ой модели выше на 3%. C помощью 1ой модели удается чаще обнаружить вероятность оттока.  \n",
    "    \n",
    "И оценивая сводную метрику (F1), которая оценивает баланс между Precision и Recall, также выше на 3%.   \n",
    "    \n",
    "Метрика roc-auc в обоих моделяъ 0.97, этот результат достаточно близок к 1, что показывает высокую вероятность неслучайных ответов. \n",
    " \n",
    "</div>"
   ]
  },
  {
   "cell_type": "markdown",
   "metadata": {},
   "source": [
    "<div class=\"alert alert-block alert-info\">\n",
    "<b>4. Кластеризация клиентов</b>\n",
    "</div>"
   ]
  },
  {
   "cell_type": "code",
   "execution_count": 9,
   "metadata": {},
   "outputs": [],
   "source": [
    "#Стандартизируем данные\n",
    "sc = StandardScaler()\n",
    "x_sc = sc.fit_transform(X)\n"
   ]
  },
  {
   "cell_type": "code",
   "execution_count": null,
   "metadata": {
    "scrolled": false
   },
   "outputs": [],
   "source": [
    "#Построем матрицу расстояний функцией linkage() на стандартизованной матрице признаков и нарисуем дендрограмму. \n",
    "#На основании полученного графика предположим, какое количество кластеров можно выделить.\n",
    "\n",
    "linked = linkage(x_sc, method = 'ward')\n",
    "plt.figure(figsize=(15,10))\n",
    "plt.axhline(y=58, color='r', linestyle='-')\n",
    "dendrogram(linked, orientation = 'top')\n",
    "plt.title('Иерархическая кластеризация признаков по Оттоку клиентов')\n",
    "plt.show()\n"
   ]
  },
  {
   "cell_type": "markdown",
   "metadata": {},
   "source": [
    "<div class=\"alert alert-block alert-info\">\n",
    "Предположим 6 кластеров для всей группы признаков \n",
    " \n",
    "</div>"
   ]
  },
  {
   "cell_type": "code",
   "execution_count": null,
   "metadata": {},
   "outputs": [],
   "source": [
    "#Обучим модель кластеризации на основании алгоритма K-Means и спрогнозируем кластеры клиентов. \n",
    "#Договоримся за число кластеров принять n=5\n",
    "\n",
    "km = KMeans(n_clusters = 5, random_state= 0) # задаём число кластеров, равное 5\n",
    "labels = km.fit_predict(x_sc) # применяем алгоритм к данным и формируем вектор кластеров \n",
    "\n",
    "churn['cluster_km'] = labels # сохраняем метки кластера в поле нашего датасета\n",
    "\n",
    "\n",
    "#Посмотрим на средние значения признаков для кластеров.\n",
    "\n",
    "churn.groupby(['cluster_km']).mean() # выводим статистику по средним значениям наших признаков по кластеру\n"
   ]
  },
  {
   "cell_type": "markdown",
   "metadata": {},
   "source": [
    "<div class=\"alert alert-block alert-info\">\n",
    "Наиболее высокий показатель оттока в кластере 0.514, самый низкий уровень в кластере 0.028  \n",
    "    \n",
    "Такие признаки как  \n",
    "    \n",
    "-отдаленность от фитнес центра,  \n",
    "-короткий контракт,  \n",
    "-не групповые занятия,  \n",
    "-низкая посещаемость  \n",
    "\n",
    "влияют на высокий отток\n",
    "    \n",
    "\n",
    " \n",
    "</div>"
   ]
  },
  {
   "cell_type": "code",
   "execution_count": null,
   "metadata": {
    "scrolled": false
   },
   "outputs": [],
   "source": [
    "#Постройте распределения признаков для кластеров. Можно ли что-то заметить по ним?\n",
    "\n",
    "print('Графики для оттока')\n",
    "\n",
    "Churn1 = churn.query('Churn == 1')\n",
    "\n",
    "for col in list_feature_numeric:\n",
    "    plt.figure(figsize=(14,8))\n",
    "    sns.distplot(Churn1.query('cluster_km == 0')[col], bins=50, color='blue', label = 'кластер 1', kde=True, kde_kws={'linewidth': 4}, hist = False) \n",
    "    sns.distplot(Churn1.query('cluster_km == 1')[col], bins=50, color='red', label = 'кластер 2', kde=True, kde_kws={'linewidth': 4}, hist = False) \n",
    "    sns.distplot(Churn1.query('cluster_km == 2')[col], bins=50, color='yellow', label = 'кластер 3', kde=True, kde_kws={'linewidth': 4}, hist = False) \n",
    "    sns.distplot(Churn1.query('cluster_km == 3')[col], bins=50, color='green', label = 'кластер 4', kde=True, kde_kws={'linewidth': 4}, hist = False) \n",
    "    sns.distplot(Churn1.query('cluster_km == 4')[col], bins=50, color='black', label = 'кластер 5', kde=True, kde_kws={'linewidth': 4}, hist = False) \n",
    "    plt.xlabel(col)\n",
    "    plt.legend()\n",
    "    plt.ylabel(\"плотность\")  \n",
    "    plt.title(col)\n",
    "    plt.show()\n"
   ]
  },
  {
   "cell_type": "code",
   "execution_count": null,
   "metadata": {},
   "outputs": [],
   "source": [
    "for col in list_feature_bool:\n",
    "    plt.figure(figsize=(10,5))\n",
    "    sns.countplot(Churn1[col], hue=Churn1['cluster_km']) \n",
    "    plt.xlabel(col)\n",
    "    plt.ylabel(\"count\")  \n",
    "    plt.title(col)\n",
    "    plt.show()"
   ]
  },
  {
   "cell_type": "code",
   "execution_count": null,
   "metadata": {
    "scrolled": false
   },
   "outputs": [],
   "source": [
    "#Постройте распределения признаков для кластеров. Можно ли что-то заметить по ним?\n",
    "\n",
    "print('Графики для оставшихся')\n",
    "\n",
    "Churn0 = churn.query('Churn == 0')\n",
    "\n",
    "for col in list_feature_numeric:\n",
    "    plt.figure(figsize=(14,8))\n",
    "    sns.distplot(Churn0.query('cluster_km == 0')[col], bins=50, color='blue', label = 'кластер 1', kde=True, kde_kws={'linewidth': 4}, hist = False) \n",
    "    sns.distplot(Churn0.query('cluster_km == 1')[col], bins=50, color='red', label = 'кластер 2', kde=True, kde_kws={'linewidth': 4}, hist = False) \n",
    "    sns.distplot(Churn0.query('cluster_km == 2')[col], bins=50, color='yellow', label = 'кластер 3', kde=True, kde_kws={'linewidth': 4}, hist = False) \n",
    "    sns.distplot(Churn0.query('cluster_km == 3')[col], bins=50, color='green', label = 'кластер 4', kde=True, kde_kws={'linewidth': 4}, hist = False) \n",
    "    sns.distplot(Churn0.query('cluster_km == 4')[col], bins=50, color='black', label = 'кластер 5', kde=True, kde_kws={'linewidth': 4}, hist = False) \n",
    "    plt.xlabel(col)\n",
    "    plt.legend()\n",
    "    plt.ylabel(\"плотность\")  \n",
    "    plt.title(col)\n",
    "    plt.show()\n"
   ]
  },
  {
   "cell_type": "code",
   "execution_count": null,
   "metadata": {},
   "outputs": [],
   "source": [
    "for col in list_feature_bool:\n",
    "    plt.figure(figsize=(10,5))\n",
    "    sns.countplot(Churn0[col], hue=Churn0['cluster_km']) \n",
    "    plt.xlabel(col)\n",
    "    plt.ylabel(\"count\")  \n",
    "    plt.title(col)\n",
    "    plt.show()"
   ]
  },
  {
   "cell_type": "markdown",
   "metadata": {},
   "source": [
    "<div class=\"alert alert-block alert-info\">\n",
    "Сложно выделить кластер, на котором стоит фокусироваться\n",
    " \n",
    "</div>"
   ]
  },
  {
   "cell_type": "code",
   "execution_count": null,
   "metadata": {},
   "outputs": [],
   "source": [
    "#Для каждого полученного кластера посчитаем долю оттока (методом groupby()).\n",
    "#Отличаются ли они по доле оттока? Какие кластеры склонны к оттоку, а какие — надёжны?\n",
    "\n",
    "churn_rate = (churn.query('Churn==1').groupby('cluster_km')['Churn'].count() / churn.groupby('cluster_km')['Churn'].count()).round(3)\n",
    "\n",
    "display(churn_rate)"
   ]
  },
  {
   "cell_type": "markdown",
   "metadata": {},
   "source": [
    "<div class=\"alert alert-block alert-info\">\n",
    "Наиболее надежный 1й кластер 0.028. \n",
    "Самый ненадежный 4й кластер 0.514.\n",
    " \n",
    "</div>"
   ]
  },
  {
   "cell_type": "markdown",
   "metadata": {},
   "source": [
    "<div class=\"alert alert-block alert-info\">\n",
    "<b>5. Выводы и базовые рекомендации по работе с клиентами</b>\n",
    "</div>"
   ]
  },
  {
   "cell_type": "markdown",
   "metadata": {},
   "source": [
    "<div class=\"alert alert-block alert-info\">\n",
    "Разберем метрики, которые положительно влияют на удержание клиента  \n",
    "    \n",
    "1. Близость до фитнес-центра(ФЦ). Стоит настраивать таргетную рекламу по радиусу нахождения ФЦ. Размещать наружную рекламу вблизи центра.  \n",
    "    \n",
    "2. Привлечение партнеров, программа \"приведи друга\", создание групповых занятий являтеся удерживающим фактором. Люди охотнее посещают занятия, если у них если друг или спортивное комьюнити.   \n",
    "\n",
    "3. Клиенты в возрасте 29-32 более лояльны, чем клиенты 25-28. Настраивание таргетной рекламы на точную возрастную аудиторию.\n",
    "\n",
    "4. Вовлчение клиентов в использование других фитнес-услуг, также положительно влияет на удержание. Стоит делать различные промо и розыгрыши на доп. услуги  \n",
    "\n",
    "5. Стоит подписывать максимально длинные контракты на абонементы. 6 и 12 месяцев являются оптимальными. Также клиенту необходимо заранее напоминать продлить контракт. Так как есть вероятность, что клиенты могут забросить занятия до окончания контракта. \n",
    "\n",
    "6. Регулярные тренировки показатель удержание клиентов. Необходимо фокусировать на тренировках от 2 раз в неделю. Давать клиентам возможость переносить занятия, напоминать заранее через приложениие о следущей тренировке.\n",
    "\n",
    "Для прогнозирование оттока стоит использовать модель логистической регрессии более приближена к реальной модели.\n",
    "</div>"
   ]
  }
 ],
 "metadata": {
  "ExecuteTimeLog": [
   {
    "duration": 447,
    "start_time": "2021-08-03T17:08:56.829Z"
   },
   {
    "duration": 1915,
    "start_time": "2021-08-03T17:12:07.463Z"
   },
   {
    "duration": 143,
    "start_time": "2021-08-03T17:12:11.272Z"
   },
   {
    "duration": 149,
    "start_time": "2021-08-03T17:12:20.623Z"
   },
   {
    "duration": 181,
    "start_time": "2021-08-03T17:12:38.371Z"
   },
   {
    "duration": 55,
    "start_time": "2021-08-03T17:26:20.976Z"
   },
   {
    "duration": 152,
    "start_time": "2021-08-03T17:26:44.146Z"
   },
   {
    "duration": 184,
    "start_time": "2021-08-03T17:27:38.283Z"
   },
   {
    "duration": 186,
    "start_time": "2021-08-03T18:04:51.655Z"
   },
   {
    "duration": 25,
    "start_time": "2021-08-03T18:08:22.735Z"
   },
   {
    "duration": 29,
    "start_time": "2021-08-03T18:09:36.990Z"
   },
   {
    "duration": 28,
    "start_time": "2021-08-03T21:40:33.168Z"
   },
   {
    "duration": 26,
    "start_time": "2021-08-03T21:41:56.992Z"
   },
   {
    "duration": 5,
    "start_time": "2021-08-03T22:04:18.707Z"
   },
   {
    "duration": 29,
    "start_time": "2021-08-04T13:24:41.151Z"
   },
   {
    "duration": 1506,
    "start_time": "2021-08-04T13:25:05.839Z"
   },
   {
    "duration": 171,
    "start_time": "2021-08-04T13:25:07.348Z"
   },
   {
    "duration": 22,
    "start_time": "2021-08-04T13:25:07.522Z"
   },
   {
    "duration": 48,
    "start_time": "2021-08-04T13:25:07.546Z"
   },
   {
    "duration": 159,
    "start_time": "2021-08-04T14:20:46.440Z"
   },
   {
    "duration": 588,
    "start_time": "2021-08-04T14:20:51.716Z"
   },
   {
    "duration": -72,
    "start_time": "2021-08-04T14:21:21.311Z"
   },
   {
    "duration": 611,
    "start_time": "2021-08-04T14:21:49.336Z"
   },
   {
    "duration": 56,
    "start_time": "2021-08-04T14:23:28.472Z"
   },
   {
    "duration": 434,
    "start_time": "2021-08-04T14:24:11.905Z"
   },
   {
    "duration": 552,
    "start_time": "2021-08-04T14:24:16.999Z"
   },
   {
    "duration": 42,
    "start_time": "2021-08-04T14:25:19.825Z"
   },
   {
    "duration": 457,
    "start_time": "2021-08-04T14:25:28.963Z"
   },
   {
    "duration": 26,
    "start_time": "2021-08-04T14:27:12.904Z"
   },
   {
    "duration": 21,
    "start_time": "2021-08-04T14:27:19.895Z"
   },
   {
    "duration": 28,
    "start_time": "2021-08-04T14:27:34.583Z"
   },
   {
    "duration": 21,
    "start_time": "2021-08-04T14:27:49.790Z"
   },
   {
    "duration": 37,
    "start_time": "2021-08-04T14:28:39.363Z"
   },
   {
    "duration": 22,
    "start_time": "2021-08-04T14:37:30.986Z"
   },
   {
    "duration": 38,
    "start_time": "2021-08-04T14:37:57.541Z"
   },
   {
    "duration": 15,
    "start_time": "2021-08-04T14:38:11.029Z"
   },
   {
    "duration": 40,
    "start_time": "2021-08-04T14:38:29.603Z"
   },
   {
    "duration": 410,
    "start_time": "2021-08-04T14:38:51.761Z"
   },
   {
    "duration": 38,
    "start_time": "2021-08-04T14:39:30.219Z"
   },
   {
    "duration": 10,
    "start_time": "2021-08-04T14:39:41.273Z"
   },
   {
    "duration": 12,
    "start_time": "2021-08-04T14:42:04.544Z"
   },
   {
    "duration": 24,
    "start_time": "2021-08-04T14:42:25.507Z"
   },
   {
    "duration": 672,
    "start_time": "2021-08-04T14:50:41.241Z"
   },
   {
    "duration": 702,
    "start_time": "2021-08-04T14:51:00.749Z"
   },
   {
    "duration": 702,
    "start_time": "2021-08-04T14:51:10.787Z"
   },
   {
    "duration": 968,
    "start_time": "2021-08-04T14:51:31.750Z"
   },
   {
    "duration": 907,
    "start_time": "2021-08-04T14:52:15.542Z"
   },
   {
    "duration": 933,
    "start_time": "2021-08-04T14:52:22.479Z"
   },
   {
    "duration": 395,
    "start_time": "2021-08-04T14:56:14.839Z"
   },
   {
    "duration": 760,
    "start_time": "2021-08-04T14:56:29.364Z"
   },
   {
    "duration": 1169,
    "start_time": "2021-08-04T15:01:59.248Z"
   },
   {
    "duration": 1604,
    "start_time": "2021-08-04T15:13:36.916Z"
   },
   {
    "duration": 128,
    "start_time": "2021-08-04T16:16:53.833Z"
   },
   {
    "duration": 126,
    "start_time": "2021-08-04T16:17:00.251Z"
   },
   {
    "duration": 9173,
    "start_time": "2021-08-04T16:17:06.903Z"
   },
   {
    "duration": 1244,
    "start_time": "2021-08-04T16:19:12.480Z"
   },
   {
    "duration": 9046,
    "start_time": "2021-08-04T16:19:33.204Z"
   },
   {
    "duration": 5318,
    "start_time": "2021-08-04T16:21:24.923Z"
   },
   {
    "duration": 5568,
    "start_time": "2021-08-04T16:24:31.417Z"
   },
   {
    "duration": 5826,
    "start_time": "2021-08-04T16:24:40.898Z"
   },
   {
    "duration": 5476,
    "start_time": "2021-08-04T16:24:49.447Z"
   },
   {
    "duration": 5537,
    "start_time": "2021-08-04T16:24:55.147Z"
   },
   {
    "duration": 5977,
    "start_time": "2021-08-04T16:33:08.289Z"
   },
   {
    "duration": 5262,
    "start_time": "2021-08-04T16:33:41.074Z"
   },
   {
    "duration": 312,
    "start_time": "2021-08-04T16:35:48.169Z"
   },
   {
    "duration": 580,
    "start_time": "2021-08-04T16:36:04.494Z"
   },
   {
    "duration": 632,
    "start_time": "2021-08-04T16:36:18.834Z"
   },
   {
    "duration": 945,
    "start_time": "2021-08-04T16:36:50.614Z"
   },
   {
    "duration": 534,
    "start_time": "2021-08-04T16:37:04.838Z"
   },
   {
    "duration": 5547,
    "start_time": "2021-08-04T16:37:15.324Z"
   },
   {
    "duration": 5793,
    "start_time": "2021-08-04T16:37:56.135Z"
   },
   {
    "duration": 9053,
    "start_time": "2021-08-04T16:39:13.480Z"
   },
   {
    "duration": 419,
    "start_time": "2021-08-04T16:40:04.179Z"
   },
   {
    "duration": 386,
    "start_time": "2021-08-04T16:40:16.503Z"
   },
   {
    "duration": 415,
    "start_time": "2021-08-04T16:40:34.581Z"
   },
   {
    "duration": 584,
    "start_time": "2021-08-04T16:41:14.836Z"
   },
   {
    "duration": 8567,
    "start_time": "2021-08-04T16:41:21.185Z"
   },
   {
    "duration": 8473,
    "start_time": "2021-08-04T16:42:23.167Z"
   },
   {
    "duration": 491,
    "start_time": "2021-08-04T16:46:55.738Z"
   },
   {
    "duration": 10832,
    "start_time": "2021-08-04T16:47:17.576Z"
   },
   {
    "duration": 612,
    "start_time": "2021-08-04T16:48:11.514Z"
   },
   {
    "duration": 7737,
    "start_time": "2021-08-04T16:48:36.381Z"
   },
   {
    "duration": 455,
    "start_time": "2021-08-04T16:49:25.634Z"
   },
   {
    "duration": 428,
    "start_time": "2021-08-04T16:49:39.143Z"
   },
   {
    "duration": 398,
    "start_time": "2021-08-04T16:49:44.469Z"
   },
   {
    "duration": 7062,
    "start_time": "2021-08-04T16:49:59.504Z"
   },
   {
    "duration": 7325,
    "start_time": "2021-08-04T16:50:19.571Z"
   },
   {
    "duration": 7717,
    "start_time": "2021-08-04T16:51:45.917Z"
   },
   {
    "duration": 12770,
    "start_time": "2021-08-04T16:58:47.216Z"
   },
   {
    "duration": 282,
    "start_time": "2021-08-04T17:10:10.027Z"
   },
   {
    "duration": 1795,
    "start_time": "2021-08-04T17:10:43.038Z"
   },
   {
    "duration": 1604,
    "start_time": "2021-08-04T17:11:07.490Z"
   },
   {
    "duration": 1561,
    "start_time": "2021-08-04T17:11:13.519Z"
   },
   {
    "duration": 1754,
    "start_time": "2021-08-04T17:11:21.625Z"
   },
   {
    "duration": 1549,
    "start_time": "2021-08-04T17:11:34.311Z"
   },
   {
    "duration": 1969,
    "start_time": "2021-08-04T17:11:43.575Z"
   },
   {
    "duration": 1923,
    "start_time": "2021-08-04T17:11:53.676Z"
   },
   {
    "duration": 45275,
    "start_time": "2021-08-04T17:12:04.170Z"
   },
   {
    "duration": 1715,
    "start_time": "2021-08-04T17:14:05.461Z"
   },
   {
    "duration": 2560,
    "start_time": "2021-08-04T17:14:34.380Z"
   },
   {
    "duration": 1907,
    "start_time": "2021-08-04T17:15:09.300Z"
   },
   {
    "duration": 1935,
    "start_time": "2021-08-04T17:15:52.342Z"
   },
   {
    "duration": 1835,
    "start_time": "2021-08-04T17:16:56.767Z"
   },
   {
    "duration": 4,
    "start_time": "2021-08-04T17:29:50.640Z"
   },
   {
    "duration": 15,
    "start_time": "2021-08-04T17:38:37.316Z"
   },
   {
    "duration": 8,
    "start_time": "2021-08-04T17:38:43.578Z"
   },
   {
    "duration": 400,
    "start_time": "2021-08-04T17:39:21.693Z"
   },
   {
    "duration": 1593,
    "start_time": "2021-08-04T17:39:46.713Z"
   },
   {
    "duration": 199,
    "start_time": "2021-08-04T17:39:48.310Z"
   },
   {
    "duration": 25,
    "start_time": "2021-08-04T17:39:48.512Z"
   },
   {
    "duration": 11190,
    "start_time": "2021-08-04T17:39:48.540Z"
   },
   {
    "duration": 1916,
    "start_time": "2021-08-04T17:39:59.733Z"
   },
   {
    "duration": 10,
    "start_time": "2021-08-04T17:40:01.652Z"
   },
   {
    "duration": 5,
    "start_time": "2021-08-04T17:41:05.126Z"
   },
   {
    "duration": 1086,
    "start_time": "2021-08-05T19:24:40.944Z"
   },
   {
    "duration": 87,
    "start_time": "2021-08-05T19:24:42.035Z"
   },
   {
    "duration": 28,
    "start_time": "2021-08-05T19:24:42.124Z"
   },
   {
    "duration": 5839,
    "start_time": "2021-08-05T19:24:42.153Z"
   },
   {
    "duration": 1101,
    "start_time": "2021-08-05T19:24:47.994Z"
   },
   {
    "duration": 338,
    "start_time": "2021-08-05T19:24:49.097Z"
   },
   {
    "duration": -393,
    "start_time": "2021-08-05T19:24:49.830Z"
   },
   {
    "duration": -393,
    "start_time": "2021-08-05T19:24:49.831Z"
   },
   {
    "duration": 368,
    "start_time": "2021-08-05T19:25:47.643Z"
   },
   {
    "duration": 355,
    "start_time": "2021-08-05T19:25:55.846Z"
   },
   {
    "duration": 336,
    "start_time": "2021-08-05T19:26:05.091Z"
   },
   {
    "duration": 50,
    "start_time": "2021-08-05T19:26:13.495Z"
   },
   {
    "duration": 192,
    "start_time": "2021-08-05T19:40:31.050Z"
   },
   {
    "duration": 52,
    "start_time": "2021-08-05T19:52:26.599Z"
   },
   {
    "duration": 35,
    "start_time": "2021-08-05T20:30:26.392Z"
   },
   {
    "duration": 1119,
    "start_time": "2021-08-05T20:38:18.848Z"
   },
   {
    "duration": 102,
    "start_time": "2021-08-05T20:38:19.968Z"
   },
   {
    "duration": 14,
    "start_time": "2021-08-05T20:38:20.072Z"
   },
   {
    "duration": 5905,
    "start_time": "2021-08-05T20:38:20.088Z"
   },
   {
    "duration": 1096,
    "start_time": "2021-08-05T20:38:25.994Z"
   },
   {
    "duration": 489,
    "start_time": "2021-08-05T20:38:27.092Z"
   },
   {
    "duration": -360,
    "start_time": "2021-08-05T20:38:27.943Z"
   },
   {
    "duration": 506,
    "start_time": "2021-08-05T20:47:27.134Z"
   },
   {
    "duration": 17,
    "start_time": "2021-08-05T20:47:29.794Z"
   },
   {
    "duration": 3,
    "start_time": "2021-08-05T21:12:10.680Z"
   },
   {
    "duration": 80,
    "start_time": "2021-08-06T09:49:04.731Z"
   },
   {
    "duration": 1,
    "start_time": "2021-08-06T09:49:04.812Z"
   },
   {
    "duration": 0,
    "start_time": "2021-08-06T09:49:04.814Z"
   },
   {
    "duration": -2,
    "start_time": "2021-08-06T09:49:04.816Z"
   },
   {
    "duration": -2,
    "start_time": "2021-08-06T09:49:04.817Z"
   },
   {
    "duration": -4,
    "start_time": "2021-08-06T09:49:04.820Z"
   },
   {
    "duration": -8,
    "start_time": "2021-08-06T09:49:04.825Z"
   },
   {
    "duration": -9,
    "start_time": "2021-08-06T09:49:04.826Z"
   },
   {
    "duration": -28,
    "start_time": "2021-08-06T09:49:04.846Z"
   },
   {
    "duration": 1076,
    "start_time": "2021-08-06T09:49:42.330Z"
   },
   {
    "duration": 93,
    "start_time": "2021-08-06T09:49:43.408Z"
   },
   {
    "duration": 18,
    "start_time": "2021-08-06T09:49:43.503Z"
   },
   {
    "duration": 5677,
    "start_time": "2021-08-06T09:49:43.523Z"
   },
   {
    "duration": 1074,
    "start_time": "2021-08-06T09:49:49.202Z"
   },
   {
    "duration": 510,
    "start_time": "2021-08-06T09:49:50.278Z"
   },
   {
    "duration": 18,
    "start_time": "2021-08-06T09:49:50.790Z"
   },
   {
    "duration": 5,
    "start_time": "2021-08-06T09:49:50.810Z"
   },
   {
    "duration": 325,
    "start_time": "2021-08-06T09:49:50.817Z"
   },
   {
    "duration": 1125,
    "start_time": "2021-08-06T09:50:16.243Z"
   },
   {
    "duration": 86,
    "start_time": "2021-08-06T09:50:17.370Z"
   },
   {
    "duration": 35,
    "start_time": "2021-08-06T09:50:17.459Z"
   },
   {
    "duration": 5643,
    "start_time": "2021-08-06T09:50:17.495Z"
   },
   {
    "duration": 1077,
    "start_time": "2021-08-06T09:50:23.140Z"
   },
   {
    "duration": 529,
    "start_time": "2021-08-06T09:50:24.218Z"
   },
   {
    "duration": 18,
    "start_time": "2021-08-06T09:50:24.749Z"
   },
   {
    "duration": 6,
    "start_time": "2021-08-06T09:50:24.768Z"
   },
   {
    "duration": 369,
    "start_time": "2021-08-06T09:50:24.775Z"
   },
   {
    "duration": 5,
    "start_time": "2021-08-06T09:51:04.131Z"
   },
   {
    "duration": 238,
    "start_time": "2021-08-06T09:51:09.820Z"
   },
   {
    "duration": 775,
    "start_time": "2021-08-06T09:51:28.960Z"
   },
   {
    "duration": 80334,
    "start_time": "2021-08-06T09:51:45.057Z"
   },
   {
    "duration": 1235,
    "start_time": "2021-08-06T13:00:54.468Z"
   },
   {
    "duration": 94,
    "start_time": "2021-08-06T13:00:55.705Z"
   },
   {
    "duration": 18,
    "start_time": "2021-08-06T13:00:55.802Z"
   },
   {
    "duration": 9984,
    "start_time": "2021-08-06T13:00:55.822Z"
   },
   {
    "duration": 1748,
    "start_time": "2021-08-06T13:01:05.808Z"
   },
   {
    "duration": 701,
    "start_time": "2021-08-06T13:01:07.558Z"
   },
   {
    "duration": 30,
    "start_time": "2021-08-06T13:01:08.261Z"
   },
   {
    "duration": 8,
    "start_time": "2021-08-06T13:01:08.294Z"
   },
   {
    "duration": 1180,
    "start_time": "2021-08-06T13:02:30.320Z"
   },
   {
    "duration": 93,
    "start_time": "2021-08-06T13:02:31.502Z"
   },
   {
    "duration": 15,
    "start_time": "2021-08-06T13:02:31.597Z"
   },
   {
    "duration": 6211,
    "start_time": "2021-08-06T13:02:31.613Z"
   },
   {
    "duration": 1108,
    "start_time": "2021-08-06T13:02:37.825Z"
   },
   {
    "duration": 550,
    "start_time": "2021-08-06T13:02:38.935Z"
   },
   {
    "duration": 19,
    "start_time": "2021-08-06T13:02:39.487Z"
   },
   {
    "duration": 7,
    "start_time": "2021-08-06T13:02:39.508Z"
   },
   {
    "duration": 81033,
    "start_time": "2021-08-06T13:02:39.516Z"
   },
   {
    "duration": 83637,
    "start_time": "2021-08-06T13:07:16.662Z"
   },
   {
    "duration": 1602,
    "start_time": "2021-08-09T09:19:45.068Z"
   },
   {
    "duration": 164,
    "start_time": "2021-08-09T09:19:46.673Z"
   },
   {
    "duration": 23,
    "start_time": "2021-08-09T09:19:46.840Z"
   },
   {
    "duration": 11322,
    "start_time": "2021-08-09T09:19:46.865Z"
   },
   {
    "duration": 2045,
    "start_time": "2021-08-09T09:19:58.190Z"
   },
   {
    "duration": 767,
    "start_time": "2021-08-09T09:20:00.237Z"
   },
   {
    "duration": 29,
    "start_time": "2021-08-09T09:20:01.007Z"
   },
   {
    "duration": 155,
    "start_time": "2021-08-09T09:20:01.041Z"
   },
   {
    "duration": 141097,
    "start_time": "2021-08-09T09:20:01.199Z"
   },
   {
    "duration": 576,
    "start_time": "2021-08-09T09:22:22.299Z"
   },
   {
    "duration": 1719,
    "start_time": "2021-08-09T09:23:27.498Z"
   },
   {
    "duration": 1785,
    "start_time": "2021-08-09T10:06:28.437Z"
   },
   {
    "duration": 1790,
    "start_time": "2021-08-09T10:06:43.129Z"
   },
   {
    "duration": 209,
    "start_time": "2021-08-09T10:12:23.991Z"
   },
   {
    "duration": 222,
    "start_time": "2021-08-09T10:12:29.021Z"
   },
   {
    "duration": 214,
    "start_time": "2021-08-09T10:13:21.024Z"
   },
   {
    "duration": 191,
    "start_time": "2021-08-09T10:13:32.535Z"
   },
   {
    "duration": 202,
    "start_time": "2021-08-09T10:13:43.301Z"
   },
   {
    "duration": 218,
    "start_time": "2021-08-09T10:13:50.577Z"
   },
   {
    "duration": 220,
    "start_time": "2021-08-09T10:14:08.511Z"
   },
   {
    "duration": 18590,
    "start_time": "2021-08-09T10:22:45.199Z"
   },
   {
    "duration": 18663,
    "start_time": "2021-08-09T10:23:09.964Z"
   },
   {
    "duration": 200,
    "start_time": "2021-08-09T10:26:30.654Z"
   },
   {
    "duration": 19873,
    "start_time": "2021-08-09T10:26:34.195Z"
   },
   {
    "duration": 18460,
    "start_time": "2021-08-09T10:28:30.965Z"
   },
   {
    "duration": 18543,
    "start_time": "2021-08-09T10:31:17.717Z"
   },
   {
    "duration": 18521,
    "start_time": "2021-08-09T11:52:37.669Z"
   },
   {
    "duration": 7095,
    "start_time": "2021-08-09T11:53:58.968Z"
   },
   {
    "duration": 7074,
    "start_time": "2021-08-09T11:55:15.501Z"
   },
   {
    "duration": 7206,
    "start_time": "2021-08-09T12:04:13.814Z"
   },
   {
    "duration": 201,
    "start_time": "2021-08-09T13:48:13.333Z"
   },
   {
    "duration": 1538,
    "start_time": "2021-08-09T13:49:53.437Z"
   },
   {
    "duration": 210,
    "start_time": "2021-08-09T13:49:54.977Z"
   },
   {
    "duration": 32,
    "start_time": "2021-08-09T13:49:55.191Z"
   },
   {
    "duration": 10574,
    "start_time": "2021-08-09T13:49:55.226Z"
   },
   {
    "duration": 1813,
    "start_time": "2021-08-09T13:50:05.803Z"
   },
   {
    "duration": 757,
    "start_time": "2021-08-09T13:50:07.619Z"
   },
   {
    "duration": 31,
    "start_time": "2021-08-09T13:50:08.379Z"
   },
   {
    "duration": 8,
    "start_time": "2021-08-09T13:50:08.413Z"
   },
   {
    "duration": 138939,
    "start_time": "2021-08-09T13:50:08.423Z"
   },
   {
    "duration": 1831,
    "start_time": "2021-08-09T13:52:27.364Z"
   },
   {
    "duration": 7259,
    "start_time": "2021-08-09T13:52:29.199Z"
   },
   {
    "duration": 7376,
    "start_time": "2021-08-09T13:52:36.461Z"
   },
   {
    "duration": 3,
    "start_time": "2021-08-09T13:52:43.840Z"
   },
   {
    "duration": 1981,
    "start_time": "2021-08-09T13:55:10.354Z"
   },
   {
    "duration": 1555,
    "start_time": "2021-08-09T13:55:22.764Z"
   },
   {
    "duration": 1845,
    "start_time": "2021-08-09T13:55:31.676Z"
   },
   {
    "duration": 1855,
    "start_time": "2021-08-09T13:55:52.255Z"
   },
   {
    "duration": 1921,
    "start_time": "2021-08-09T13:58:30.191Z"
   },
   {
    "duration": 580,
    "start_time": "2021-08-09T14:14:04.565Z"
   },
   {
    "duration": 7279,
    "start_time": "2021-08-09T14:14:18.332Z"
   },
   {
    "duration": 15,
    "start_time": "2021-08-09T14:14:52.673Z"
   },
   {
    "duration": 14,
    "start_time": "2021-08-09T14:19:00.124Z"
   },
   {
    "duration": 16,
    "start_time": "2021-08-09T14:19:04.689Z"
   },
   {
    "duration": 613,
    "start_time": "2021-08-09T14:20:36.902Z"
   },
   {
    "duration": 14,
    "start_time": "2021-08-09T14:20:47.866Z"
   },
   {
    "duration": 14,
    "start_time": "2021-08-09T14:20:59.266Z"
   },
   {
    "duration": 17,
    "start_time": "2021-08-09T14:21:08.003Z"
   },
   {
    "duration": 1529,
    "start_time": "2021-08-09T16:49:17.820Z"
   },
   {
    "duration": 152,
    "start_time": "2021-08-09T16:49:19.351Z"
   },
   {
    "duration": 24,
    "start_time": "2021-08-09T16:49:19.506Z"
   },
   {
    "duration": 10303,
    "start_time": "2021-08-09T16:49:19.533Z"
   },
   {
    "duration": 1981,
    "start_time": "2021-08-09T16:49:29.839Z"
   },
   {
    "duration": 746,
    "start_time": "2021-08-09T16:49:31.823Z"
   },
   {
    "duration": 32,
    "start_time": "2021-08-09T16:49:32.572Z"
   },
   {
    "duration": 8,
    "start_time": "2021-08-09T16:49:32.606Z"
   },
   {
    "duration": 137868,
    "start_time": "2021-08-09T16:49:32.617Z"
   },
   {
    "duration": 1928,
    "start_time": "2021-08-09T16:51:50.487Z"
   },
   {
    "duration": 7237,
    "start_time": "2021-08-09T16:51:52.418Z"
   },
   {
    "duration": 7113,
    "start_time": "2021-08-09T16:51:59.658Z"
   },
   {
    "duration": 24,
    "start_time": "2021-08-09T16:52:06.774Z"
   },
   {
    "duration": 1675,
    "start_time": "2021-08-10T06:13:43.049Z"
   },
   {
    "duration": 158,
    "start_time": "2021-08-10T06:13:44.726Z"
   },
   {
    "duration": 23,
    "start_time": "2021-08-10T06:13:44.887Z"
   },
   {
    "duration": 10573,
    "start_time": "2021-08-10T06:13:44.913Z"
   },
   {
    "duration": 1836,
    "start_time": "2021-08-10T06:13:55.488Z"
   },
   {
    "duration": 822,
    "start_time": "2021-08-10T06:13:57.326Z"
   },
   {
    "duration": 34,
    "start_time": "2021-08-10T06:13:58.151Z"
   },
   {
    "duration": 8,
    "start_time": "2021-08-10T06:13:58.189Z"
   },
   {
    "duration": 138699,
    "start_time": "2021-08-10T06:13:58.199Z"
   },
   {
    "duration": 1887,
    "start_time": "2021-08-10T06:16:16.901Z"
   },
   {
    "duration": 7142,
    "start_time": "2021-08-10T06:16:18.791Z"
   },
   {
    "duration": 7136,
    "start_time": "2021-08-10T06:16:25.935Z"
   },
   {
    "duration": 13,
    "start_time": "2021-08-10T06:16:33.073Z"
   },
   {
    "duration": 324,
    "start_time": "2021-08-10T09:16:19.030Z"
   },
   {
    "duration": 1089,
    "start_time": "2021-08-10T09:16:26.484Z"
   },
   {
    "duration": 83,
    "start_time": "2021-08-10T09:16:27.574Z"
   },
   {
    "duration": 12,
    "start_time": "2021-08-10T09:16:27.659Z"
   },
   {
    "duration": 2963,
    "start_time": "2021-08-10T09:16:27.673Z"
   },
   {
    "duration": 1076,
    "start_time": "2021-08-10T09:16:30.638Z"
   },
   {
    "duration": 500,
    "start_time": "2021-08-10T09:16:31.716Z"
   },
   {
    "duration": 16,
    "start_time": "2021-08-10T09:16:32.217Z"
   },
   {
    "duration": 5,
    "start_time": "2021-08-10T09:16:32.235Z"
   },
   {
    "duration": 71741,
    "start_time": "2021-08-10T09:16:32.242Z"
   },
   {
    "duration": 1233,
    "start_time": "2021-08-10T09:17:43.984Z"
   },
   {
    "duration": 393,
    "start_time": "2021-08-10T09:17:45.219Z"
   },
   {
    "duration": -27,
    "start_time": "2021-08-10T09:17:45.640Z"
   },
   {
    "duration": -29,
    "start_time": "2021-08-10T09:17:45.643Z"
   },
   {
    "duration": 3488,
    "start_time": "2021-08-10T09:24:59.870Z"
   },
   {
    "duration": 2522,
    "start_time": "2021-08-10T09:28:38.566Z"
   },
   {
    "duration": 2614,
    "start_time": "2021-08-10T09:28:53.096Z"
   },
   {
    "duration": 466,
    "start_time": "2021-08-10T09:31:27.232Z"
   },
   {
    "duration": 1909,
    "start_time": "2021-08-10T09:31:55.652Z"
   },
   {
    "duration": 1349,
    "start_time": "2021-08-10T09:33:13.744Z"
   },
   {
    "duration": 1056,
    "start_time": "2021-08-10T09:33:43.049Z"
   },
   {
    "duration": 232,
    "start_time": "2021-08-10T09:34:53.955Z"
   },
   {
    "duration": 231,
    "start_time": "2021-08-10T09:35:24.508Z"
   },
   {
    "duration": 908,
    "start_time": "2021-08-10T09:35:41.749Z"
   },
   {
    "duration": 243,
    "start_time": "2021-08-10T09:36:36.247Z"
   },
   {
    "duration": 231,
    "start_time": "2021-08-10T09:42:11.950Z"
   },
   {
    "duration": 241,
    "start_time": "2021-08-10T09:42:21.113Z"
   },
   {
    "duration": 248,
    "start_time": "2021-08-10T09:42:37.414Z"
   },
   {
    "duration": 1017,
    "start_time": "2021-08-10T09:42:43.613Z"
   },
   {
    "duration": 902,
    "start_time": "2021-08-10T09:42:49.118Z"
   },
   {
    "duration": 932,
    "start_time": "2021-08-10T09:43:06.748Z"
   },
   {
    "duration": 221,
    "start_time": "2021-08-10T09:43:19.153Z"
   },
   {
    "duration": 856,
    "start_time": "2021-08-10T09:44:43.437Z"
   },
   {
    "duration": 922,
    "start_time": "2021-08-10T09:45:21.461Z"
   },
   {
    "duration": 519,
    "start_time": "2021-08-10T09:46:51.415Z"
   },
   {
    "duration": 903,
    "start_time": "2021-08-10T09:47:05.816Z"
   },
   {
    "duration": 994,
    "start_time": "2021-08-10T09:47:12.106Z"
   },
   {
    "duration": 259,
    "start_time": "2021-08-10T09:47:39.098Z"
   },
   {
    "duration": 1114,
    "start_time": "2021-08-10T09:48:02.448Z"
   },
   {
    "duration": 1079,
    "start_time": "2021-08-10T09:48:18.762Z"
   },
   {
    "duration": 1788,
    "start_time": "2021-08-10T09:48:26.259Z"
   },
   {
    "duration": 1044,
    "start_time": "2021-08-10T09:48:45.720Z"
   },
   {
    "duration": 113,
    "start_time": "2021-08-10T16:50:44.331Z"
   },
   {
    "duration": 96,
    "start_time": "2021-08-10T16:55:31.056Z"
   },
   {
    "duration": 380,
    "start_time": "2021-08-10T17:05:27.285Z"
   },
   {
    "duration": 1221,
    "start_time": "2021-08-10T17:05:36.223Z"
   },
   {
    "duration": 95,
    "start_time": "2021-08-10T17:05:37.446Z"
   },
   {
    "duration": 14,
    "start_time": "2021-08-10T17:05:37.543Z"
   },
   {
    "duration": 3271,
    "start_time": "2021-08-10T17:05:37.558Z"
   },
   {
    "duration": 1303,
    "start_time": "2021-08-10T17:05:40.831Z"
   },
   {
    "duration": 1005,
    "start_time": "2021-08-10T17:05:42.135Z"
   },
   {
    "duration": 503,
    "start_time": "2021-08-10T17:05:43.142Z"
   },
   {
    "duration": 17,
    "start_time": "2021-08-10T17:05:43.647Z"
   },
   {
    "duration": 5,
    "start_time": "2021-08-10T17:05:43.666Z"
   },
   {
    "duration": 1135,
    "start_time": "2021-08-10T17:06:24.803Z"
   },
   {
    "duration": 88,
    "start_time": "2021-08-10T17:06:25.941Z"
   },
   {
    "duration": 23,
    "start_time": "2021-08-10T17:06:26.031Z"
   },
   {
    "duration": 3166,
    "start_time": "2021-08-10T17:06:26.055Z"
   },
   {
    "duration": 1343,
    "start_time": "2021-08-10T17:06:29.222Z"
   },
   {
    "duration": 984,
    "start_time": "2021-08-10T17:06:30.567Z"
   },
   {
    "duration": 488,
    "start_time": "2021-08-10T17:06:31.552Z"
   },
   {
    "duration": 19,
    "start_time": "2021-08-10T17:06:32.042Z"
   },
   {
    "duration": 7,
    "start_time": "2021-08-10T17:06:32.063Z"
   },
   {
    "duration": 75724,
    "start_time": "2021-08-10T17:06:32.072Z"
   },
   {
    "duration": 1456,
    "start_time": "2021-08-10T17:07:47.798Z"
   },
   {
    "duration": 352,
    "start_time": "2021-08-10T17:07:49.256Z"
   },
   {
    "duration": 570,
    "start_time": "2021-08-10T17:07:49.040Z"
   },
   {
    "duration": 565,
    "start_time": "2021-08-10T17:07:49.046Z"
   },
   {
    "duration": 16,
    "start_time": "2021-08-10T17:08:56.713Z"
   },
   {
    "duration": 2152,
    "start_time": "2021-08-10T17:10:21.042Z"
   },
   {
    "duration": 274,
    "start_time": "2021-08-10T17:12:28.335Z"
   },
   {
    "duration": 287,
    "start_time": "2021-08-10T17:15:25.787Z"
   },
   {
    "duration": 274,
    "start_time": "2021-08-10T17:20:42.931Z"
   },
   {
    "duration": 272,
    "start_time": "2021-08-10T17:21:05.270Z"
   },
   {
    "duration": 256,
    "start_time": "2021-08-10T17:21:10.495Z"
   },
   {
    "duration": 2406,
    "start_time": "2021-08-10T17:32:58.869Z"
   },
   {
    "duration": 1096,
    "start_time": "2021-08-10T17:42:48.062Z"
   },
   {
    "duration": 1284,
    "start_time": "2021-08-10T17:53:20.035Z"
   },
   {
    "duration": 1595,
    "start_time": "2021-08-11T05:26:56.717Z"
   },
   {
    "duration": 158,
    "start_time": "2021-08-11T05:26:58.315Z"
   },
   {
    "duration": 24,
    "start_time": "2021-08-11T05:26:58.476Z"
   },
   {
    "duration": 5758,
    "start_time": "2021-08-11T05:26:58.504Z"
   },
   {
    "duration": 2274,
    "start_time": "2021-08-11T05:27:04.264Z"
   },
   {
    "duration": 1747,
    "start_time": "2021-08-11T05:27:06.541Z"
   },
   {
    "duration": 741,
    "start_time": "2021-08-11T05:27:08.290Z"
   },
   {
    "duration": 38,
    "start_time": "2021-08-11T05:27:09.033Z"
   },
   {
    "duration": 10,
    "start_time": "2021-08-11T05:27:09.076Z"
   },
   {
    "duration": 138726,
    "start_time": "2021-08-11T05:27:09.089Z"
   },
   {
    "duration": 1861,
    "start_time": "2021-08-11T05:29:27.818Z"
   },
   {
    "duration": 3677,
    "start_time": "2021-08-11T05:29:29.681Z"
   },
   {
    "duration": 1915,
    "start_time": "2021-08-11T05:29:33.360Z"
   },
   {
    "duration": 4126,
    "start_time": "2021-08-11T05:29:35.278Z"
   },
   {
    "duration": 2203,
    "start_time": "2021-08-11T05:29:39.406Z"
   },
   {
    "duration": 13,
    "start_time": "2021-08-11T05:29:41.611Z"
   },
   {
    "duration": 337,
    "start_time": "2021-08-13T09:21:20.167Z"
   },
   {
    "duration": 316,
    "start_time": "2021-08-13T11:53:10.229Z"
   }
  ],
  "kernelspec": {
   "display_name": "Python 3",
   "language": "python",
   "name": "python3"
  },
  "language_info": {
   "codemirror_mode": {
    "name": "ipython",
    "version": 3
   },
   "file_extension": ".py",
   "mimetype": "text/x-python",
   "name": "python",
   "nbconvert_exporter": "python",
   "pygments_lexer": "ipython3",
   "version": "3.8.8"
  },
  "toc": {
   "base_numbering": 1,
   "nav_menu": {},
   "number_sections": true,
   "sideBar": true,
   "skip_h1_title": true,
   "title_cell": "Table of Contents",
   "title_sidebar": "Contents",
   "toc_cell": false,
   "toc_position": {},
   "toc_section_display": true,
   "toc_window_display": false
  }
 },
 "nbformat": 4,
 "nbformat_minor": 2
}
